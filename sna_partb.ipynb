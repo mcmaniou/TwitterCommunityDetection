{
  "cells": [
    {
      "cell_type": "markdown",
      "metadata": {
        "id": "view-in-github",
        "colab_type": "text"
      },
      "source": [
        "<a href=\"https://colab.research.google.com/github/SophiaVei/Community-Detection/blob/main/sna_partb.ipynb\" target=\"_parent\"><img src=\"https://colab.research.google.com/assets/colab-badge.svg\" alt=\"Open In Colab\"/></a>"
      ]
    },
    {
      "cell_type": "markdown",
      "source": [
        "# Community Detection in Twitter Dataset\n",
        "\n",
        "\n",
        "\n",
        "\n"
      ],
      "metadata": {
        "id": "pDZTAP-NIccQ"
      }
    },
    {
      "cell_type": "markdown",
      "metadata": {
        "colab_type": "toc",
        "id": "JqxvC35rX4Vc"
      },
      "source": [
        ">[Community Detection in Twitter Dataset](#scrollTo=pDZTAP-NIccQ)\n",
        "\n",
        ">>[1.Data Preparation and Visualization](#scrollTo=3pR4K7TxX7_h)\n",
        "\n",
        ">>>[1.1 Import the Graph(s)](#scrollTo=jX2Qh2_H2-GL)\n",
        "\n",
        ">>>[1.2 Keep giant component](#scrollTo=R4IWAHhMzxyD)\n",
        "\n",
        ">>>[1.3 Visualization of the graph(s)](#scrollTo=binzhRzkRA7o)\n",
        "\n",
        ">>[2.Implementation of the algorithms](#scrollTo=Z9na81ib0xKW)\n",
        "\n",
        ">>>[2.1 Louvain](#scrollTo=tTgdml6nV4da)\n",
        "\n",
        ">>>>[Code](#scrollTo=fsQM53gI-zle)\n",
        "\n",
        ">>>>[Modularity](#scrollTo=hT2Pjj5B-4ey)\n",
        "\n",
        ">>>>[Investigation of the Three Largest Communities](#scrollTo=UH4ekKFD-7RT)\n",
        "\n",
        ">>>>>[First Largest Community](#scrollTo=zLCq56WOA23b)\n",
        "\n",
        ">>>>>[Second Largest Community](#scrollTo=yQfj6s_oA51q)\n",
        "\n",
        ">>>>>[Third Largest Community](#scrollTo=8YYBTDbUA8WU)\n",
        "\n",
        ">>>[2.2 Label Propagation](#scrollTo=5SWNkjoGjli0)\n",
        "\n",
        ">>>>[Code - Modularity](#scrollTo=B3AKjLVe9Kih)\n",
        "\n",
        ">>>[2.3 Balanced Link Density-based Label Propagation (BLDLP)](#scrollTo=kkulniTkSWvl)\n",
        "\n",
        ">>>>[Code](#scrollTo=b22vmHNw9RZ7)\n",
        "\n",
        ">>>>[Modularity](#scrollTo=9TNL9nta9VbG)\n",
        "\n",
        ">>>>[Investigation of the Three Largest Communities](#scrollTo=azs6MoGvoddk)\n",
        "\n",
        ">>>>>[First Largest Community](#scrollTo=t98261phpM7D)\n",
        "\n",
        ">>>>>[Second Largest Community](#scrollTo=4-oOJaUPo2F5)\n",
        "\n",
        ">>>>>[Third Largest Community](#scrollTo=8resDYjYpQOW)\n",
        "\n",
        ">>>[2.4 Fast Greedy](#scrollTo=UDGm8rMuf-7s)\n",
        "\n",
        ">>>>[Code](#scrollTo=Y-QqFGmYgeoE)\n",
        "\n",
        ">>>>[Modularity](#scrollTo=0MsWDDboghmU)\n",
        "\n",
        ">>>[2.6 Deep Nonlinear Reconstruction](#scrollTo=jFaCCrgj5Wte)\n",
        "\n",
        ">>>>[Code - Modularity - Investigation of the Three Largest Communities](#scrollTo=i84eSmESg8P0)\n",
        "\n"
      ]
    },
    {
      "cell_type": "markdown",
      "metadata": {
        "id": "7WNTNlvRb9YM"
      },
      "source": [
        "*Summary:*\n",
        "\n",
        "*   Compose 4 first days (graphs) into one.\n",
        "*   Get giant component.\n",
        "*   Implement 5 algorithms to find communitites (Louvain, Label Propagation, Balanced Link Density-based Label Propagation, Fast Greedy, Deep Nonlinear Reconstruction).\n",
        "*   Find modularity of each one of them.\n",
        "*   Implement 3 algorithms to investigate the three largest communities (Louvain, Balanced Link Density-based Label Propagation, Deep Nonlinear Reconstruction) based on finding percentages of labels (parties) in each community, average clustering coefficient, density, diameter and average path length."
      ]
    },
    {
      "cell_type": "markdown",
      "metadata": {
        "id": "3pR4K7TxX7_h"
      },
      "source": [
        "## 1.Data Preparation and Visualization"
      ]
    },
    {
      "cell_type": "markdown",
      "metadata": {
        "id": "jX2Qh2_H2-GL"
      },
      "source": [
        "### 1.1 Import the Graph(s)"
      ]
    },
    {
      "cell_type": "code",
      "execution_count": null,
      "metadata": {
        "id": "9pRBkymKDJoM"
      },
      "outputs": [],
      "source": [
        "#Installation of the right version will be needed\n",
        "#!pip install user --scipy==1.8.1\n",
        "!pip install --upgrade scipy networkx\n"
      ]
    },
    {
      "cell_type": "code",
      "execution_count": null,
      "metadata": {
        "id": "40xy28K-H0wB"
      },
      "outputs": [],
      "source": [
        "#pip install networkx==3"
      ]
    },
    {
      "cell_type": "code",
      "execution_count": null,
      "metadata": {
        "id": "o-MlxEhKGoNT"
      },
      "outputs": [],
      "source": [
        "#Upload graph(s)\n",
        "from google.colab import files\n",
        "uploaded = files.upload()"
      ]
    },
    {
      "cell_type": "code",
      "execution_count": null,
      "metadata": {
        "id": "Yj6C5HIjDC5n"
      },
      "outputs": [],
      "source": [
        "#import most common necessary libraries\n",
        "import networkx as nx\n",
        "import io\n",
        "import matplotlib.cm as cm\n",
        "import matplotlib.pyplot as plt\n",
        "import networkx as nx\n",
        "import pickle\n",
        "import numpy as np\n",
        "import pandas as pd\n",
        "import math\n",
        "import os, random\n",
        "import tensorflow as tf\n",
        "from sklearn.cluster import KMeans\n",
        "from sklearn import metrics, preprocessing\n",
        "from collections import Counter\n",
        "\n",
        "import networkx.algorithms.community as nx_comm"
      ]
    },
    {
      "cell_type": "code",
      "execution_count": null,
      "metadata": {
        "id": "8N8vPQq53PSf"
      },
      "outputs": [],
      "source": [
        "#Load graph(s)\n",
        "G1 = pickle.load(open('Graph_0','rb'))\n",
        "for i in range(0,4):\n",
        "  G_i = pickle.load(open('Graph_'+str(i),'rb')).to_undirected()\n",
        "  G1 = nx.compose(G1, G_i)"
      ]
    },
    {
      "cell_type": "code",
      "execution_count": null,
      "metadata": {
        "id": "J0ll5uESZePR"
      },
      "outputs": [],
      "source": [
        "nx.info(G1)"
      ]
    },
    {
      "cell_type": "code",
      "execution_count": null,
      "metadata": {
        "id": "O31NO0IYUwN7"
      },
      "outputs": [],
      "source": [
        "uploaded = files.upload()\n",
        "node_attributes_file=open(\"node_attributes\", \"rb\")\n",
        "nattributes = pickle.load(node_attributes_file)"
      ]
    },
    {
      "cell_type": "code",
      "execution_count": null,
      "metadata": {
        "id": "6aGs7aZUS0vd"
      },
      "outputs": [],
      "source": [
        "#save graph\n",
        "nx.write_graphml(G1, \"graph_03.graphml\")"
      ]
    },
    {
      "cell_type": "code",
      "execution_count": null,
      "metadata": {
        "id": "25kfB7CjU2Po"
      },
      "outputs": [],
      "source": [
        "#save the attributes data in csv\n",
        "df = pd.DataFrame.from_dict(nattributes) \n",
        "gephi_df = pd.DataFrame(data = {'Id': np.array(list(nattributes.keys())), 'party': df.iloc[6,:].to_numpy()})\n",
        "gephi_df = gephi_df.loc[gephi_df['Id'].isin(list(G1.nodes))]\n",
        "gephi_df.to_csv (r'attributes_03.csv', index = False, header=True)"
      ]
    },
    {
      "cell_type": "markdown",
      "metadata": {
        "id": "R4IWAHhMzxyD"
      },
      "source": [
        "### 1.2 Keep giant component"
      ]
    },
    {
      "cell_type": "code",
      "source": [
        "Gcc = sorted(nx.connected_components(G1), key=len, reverse=True)\n",
        "G = G1.subgraph(Gcc[0])\n",
        "nodes = np.array(nx.nodes(G))"
      ],
      "metadata": {
        "id": "lDbPHyYSeTM4"
      },
      "execution_count": null,
      "outputs": []
    },
    {
      "cell_type": "code",
      "source": [
        "print('density:', nx.density(G))\n",
        "print('average clustering coefficient:',nx.average_clustering(G))\n",
        "print('diameter:',nx.diameter(G))\n",
        "print('avg shortest path length:',nx.average_shortest_path_length(G))"
      ],
      "metadata": {
        "id": "q8P74VMtJ6nl"
      },
      "execution_count": null,
      "outputs": []
    },
    {
      "cell_type": "code",
      "source": [
        "nx.info(G)"
      ],
      "metadata": {
        "id": "XnSTpI1be4Jn"
      },
      "execution_count": null,
      "outputs": []
    },
    {
      "cell_type": "code",
      "execution_count": null,
      "metadata": {
        "id": "hnbbwkXs0BN9"
      },
      "outputs": [],
      "source": [
        "#save graph\n",
        "nx.write_graphml(G, \"graph_03_d2.graphml\")"
      ]
    },
    {
      "cell_type": "code",
      "execution_count": null,
      "metadata": {
        "id": "A4nrJSe-0DOD"
      },
      "outputs": [],
      "source": [
        "#save the attributes data in csv\n",
        "df = pd.DataFrame.from_dict(nattributes) \n",
        "gephi_df = pd.DataFrame(data = {'Id': np.array(list(nattributes.keys())), 'party': df.iloc[6,:].to_numpy()})\n",
        "gephi_df = gephi_df.loc[gephi_df['Id'].isin(list(G.nodes))]\n",
        "gephi_df.to_csv (r'attributes_03_d2.csv', index = False, header=True)"
      ]
    },
    {
      "cell_type": "code",
      "execution_count": null,
      "metadata": {
        "id": "onfhPUsZhcK2"
      },
      "outputs": [],
      "source": [
        "gephi_df.shape"
      ]
    },
    {
      "cell_type": "code",
      "execution_count": null,
      "metadata": {
        "id": "kXbCBZ6LT_SH"
      },
      "outputs": [],
      "source": [
        "#find nodes without label\n",
        "Ndiff = set(G.nodes())-set(nattributes.keys())\n",
        "len(Ndiff)"
      ]
    },
    {
      "cell_type": "markdown",
      "metadata": {
        "id": "binzhRzkRA7o"
      },
      "source": [
        "### 1.3 Visualization of the graph(s)"
      ]
    },
    {
      "cell_type": "code",
      "execution_count": null,
      "metadata": {
        "colab": {
          "base_uri": "https://localhost:8080/",
          "height": 335
        },
        "id": "p5Ye-sxbCtOr",
        "outputId": "c40c2b5c-8717-401f-d57b-f81e7c88d16d"
      },
      "outputs": [
        {
          "output_type": "stream",
          "name": "stdout",
          "text": [
            "\n",
            "\n",
            " Graphical Representation of G: \n",
            "\n",
            "\n"
          ]
        },
        {
          "output_type": "display_data",
          "data": {
            "text/plain": [
              "<Figure size 432x288 with 1 Axes>"
            ],
            "image/png": "[encoded data removed]"
          },
          "metadata": {}
        }
      ],
      "source": [
        "print('\\n\\n Graphical Representation of G: \\n\\n')\n",
        "nx.draw_networkx(G,with_labels=False, node_size=50)"
      ]
    },
    {
      "cell_type": "markdown",
      "metadata": {
        "id": "Z9na81ib0xKW"
      },
      "source": [
        "## 2.Implementation of the algorithms"
      ]
    },
    {
      "cell_type": "markdown",
      "metadata": {
        "id": "tTgdml6nV4da"
      },
      "source": [
        "### 2.1 Louvain"
      ]
    },
    {
      "cell_type": "markdown",
      "source": [
        "#### Code"
      ],
      "metadata": {
        "id": "fsQM53gI-zle"
      }
    },
    {
      "cell_type": "code",
      "execution_count": null,
      "metadata": {
        "id": "fyRI0OmQ1J9z"
      },
      "outputs": [],
      "source": [
        "pip install python-louvain"
      ]
    },
    {
      "cell_type": "code",
      "execution_count": null,
      "metadata": {
        "id": "t0c0S3nEF-z5"
      },
      "outputs": [],
      "source": [
        "import community.community_louvain as community_louvain"
      ]
    },
    {
      "cell_type": "code",
      "execution_count": null,
      "metadata": {
        "id": "71DxbxJOD63v"
      },
      "outputs": [],
      "source": [
        "#first compute the best partition\n",
        "partition = community_louvain.best_partition(G)"
      ]
    },
    {
      "cell_type": "code",
      "source": [
        "# draw the graph\n",
        "pos = nx.spring_layout(G)\n",
        "# color the nodes according to their partition\n",
        "cmap = cm.get_cmap('viridis', max(partition.values()) + 1)\n",
        "nx.draw_networkx_nodes(G, pos, partition.keys(), node_size=40,\n",
        "                       cmap=cmap, node_color=list(partition.values()))\n",
        "nx.draw_networkx_edges(G, pos, alpha=0.5)\n",
        "plt.show()"
      ],
      "metadata": {
        "colab": {
          "base_uri": "https://localhost:8080/",
          "height": 248
        },
        "id": "ES-Yanbe4rwz",
        "outputId": "30576a9a-3555-4d06-dd39-463048faa1e1"
      },
      "execution_count": null,
      "outputs": [
        {
          "output_type": "display_data",
          "data": {
            "text/plain": [
              "<Figure size 432x288 with 1 Axes>"
            ],
            "image/png": "[encoded data removed]"
          },
          "metadata": {}
        }
      ]
    },
    {
      "cell_type": "markdown",
      "source": [
        "#### Modularity"
      ],
      "metadata": {
        "id": "hT2Pjj5B-4ey"
      }
    },
    {
      "cell_type": "markdown",
      "source": [
        "#### Investigation of the Three Largest Communities"
      ],
      "metadata": {
        "id": "UH4ekKFD-7RT"
      }
    },
    {
      "cell_type": "code",
      "source": [
        "#Modularity of Louvain\n",
        "community_louvain.modularity(partition, G, weight='weight')"
      ],
      "metadata": {
        "id": "DuSMEY-i5Ctz"
      },
      "execution_count": null,
      "outputs": []
    },
    {
      "cell_type": "code",
      "source": [
        "#Count nodes in each community and sort them from smallest to largest\n",
        "#The three largest communities in the network we are working on are: 5,3 and 2\n",
        "from collections import Counter\n",
        "\n",
        "countnodes = Counter(partition.values())\n",
        "sortedcountnodes = sorted(countnodes.items(), key=lambda x:x[1])\n",
        "sortedcountnodesd = dict(sortedcountnodes)\n",
        "\n",
        "print(sortedcountnodesd)"
      ],
      "metadata": {
        "id": "EAXRBwRgutqu"
      },
      "execution_count": null,
      "outputs": []
    },
    {
      "cell_type": "code",
      "source": [
        "#number of communities\n",
        "len(countnodes)"
      ],
      "metadata": {
        "id": "DOasjVuNuzFb"
      },
      "execution_count": null,
      "outputs": []
    },
    {
      "cell_type": "code",
      "source": [
        "#find all nodes in three largest communities (, 8 and 12)\n",
        "firstlargestpartition=list([k for k, v in partition.items() if v == 5])\n",
        "secondlargestpartition=list([k for k, v in partition.items() if v == 3])\n",
        "thirdlargestpartition=list([k for k, v in partition.items() if v == 2])\n",
        "\n",
        "#print the nodes in each of the three largest communities\n",
        "print(len(firstlargestpartition),firstlargestpartition)\n",
        "print(len(secondlargestpartition),secondlargestpartition)\n",
        "print(len(thirdlargestpartition),thirdlargestpartition)"
      ],
      "metadata": {
        "id": "Htw1QstAK_Qc"
      },
      "execution_count": null,
      "outputs": []
    },
    {
      "cell_type": "markdown",
      "source": [
        "##### First Largest Community"
      ],
      "metadata": {
        "id": "zLCq56WOA23b"
      }
    },
    {
      "cell_type": "code",
      "source": [
        "#find which nodes belong to each party in firstlargestcommunity\n",
        "party1=[]\n",
        "for k in firstlargestpartition:\n",
        "  if k in nattributes.keys():\n",
        "    party1.append(nattributes[k]['party'])"
      ],
      "metadata": {
        "id": "i6Hh7-nGvtPn"
      },
      "execution_count": null,
      "outputs": []
    },
    {
      "cell_type": "code",
      "source": [
        "#count the nodes in each party in firstlargestcommunity\n",
        "countfirst=pd.value_counts(np.array(party1))\n",
        "print(countfirst)"
      ],
      "metadata": {
        "id": "dQFIcWhiB-kl"
      },
      "execution_count": null,
      "outputs": []
    },
    {
      "cell_type": "code",
      "source": [
        "#Count percentage or partys in firstlargestcommunity\n",
        "\n",
        "for i in countfirst:\n",
        "  print((i/len(firstlargestpartition))*100,'%')"
      ],
      "metadata": {
        "id": "49NDMHpQLMJ6"
      },
      "execution_count": null,
      "outputs": []
    },
    {
      "cell_type": "code",
      "source": [
        "#create subgraph of firstlargestcommunity\n",
        "subgrfirstlarge = G.subgraph(firstlargestpartition)"
      ],
      "metadata": {
        "id": "e6PEfXH5yESV"
      },
      "execution_count": null,
      "outputs": []
    },
    {
      "cell_type": "code",
      "source": [
        "#compute average clustering coefficient for firstlargestcommunity\n",
        "print(nx.average_clustering(subgrfirstlarge))"
      ],
      "metadata": {
        "id": "Dulab6erT_gd"
      },
      "execution_count": null,
      "outputs": []
    },
    {
      "cell_type": "code",
      "source": [
        "#compute clustering coefficient for firstlargestcommunity\n",
        "\n",
        "clustercoeffirstlarge=nx.clustering(subgrfirstlarge)\n",
        "print(clustercoeffirstlarge)"
      ],
      "metadata": {
        "id": "U5kdznpdyOck"
      },
      "execution_count": null,
      "outputs": []
    },
    {
      "cell_type": "code",
      "source": [
        "#compute density for firstlargestcommunity\n",
        "\n",
        "densityfirstlarge=nx.density(subgrfirstlarge)\n",
        "print(densityfirstlarge)"
      ],
      "metadata": {
        "id": "3dCw2JInykwU"
      },
      "execution_count": null,
      "outputs": []
    },
    {
      "cell_type": "code",
      "source": [
        "#compute diameter for firstlargestcommunity\n",
        "\n",
        "diameterfirstlarge=nx.diameter(subgrfirstlarge)\n",
        "print(diameterfirstlarge)"
      ],
      "metadata": {
        "id": "5TuA3sVPyiyk"
      },
      "execution_count": null,
      "outputs": []
    },
    {
      "cell_type": "code",
      "source": [
        "#compute average path length for firstlargestcommunity\n",
        "\n",
        "avgplengthfirstlarge=nx.average_shortest_path_length(subgrfirstlarge)\n",
        "print(avgplengthfirstlarge)"
      ],
      "metadata": {
        "id": "ogzvFuM50I_L"
      },
      "execution_count": null,
      "outputs": []
    },
    {
      "cell_type": "markdown",
      "source": [
        "##### Second Largest Community"
      ],
      "metadata": {
        "id": "yQfj6s_oA51q"
      }
    },
    {
      "cell_type": "code",
      "source": [
        "#find which nodes belong to each party in secondlargestcommunity\n",
        "party2=[]\n",
        "for k in secondlargestpartition:\n",
        "  if k in nattributes.keys():\n",
        "    party2.append(nattributes[k]['party'])"
      ],
      "metadata": {
        "id": "ojQBLg9cBvke"
      },
      "execution_count": null,
      "outputs": []
    },
    {
      "cell_type": "code",
      "source": [
        "#count the nodes in each party in secondlargestcommunity\n",
        "countsecond=pd.value_counts(np.array(party2))\n",
        "print(countsecond)"
      ],
      "metadata": {
        "id": "pXczzbBTE9TK"
      },
      "execution_count": null,
      "outputs": []
    },
    {
      "cell_type": "code",
      "source": [
        "#Count percentage of partys in secondlargestcommunity\n",
        "\n",
        "for i in countsecond:\n",
        "  print((i/len(secondlargestpartition))*100,'%')"
      ],
      "metadata": {
        "id": "3bvptgvwHTOp"
      },
      "execution_count": null,
      "outputs": []
    },
    {
      "cell_type": "code",
      "source": [
        "#create subgraph of secondlargestcommunity\n",
        "subgrsecondlarge = G.subgraph(secondlargestpartition)"
      ],
      "metadata": {
        "id": "Y3M4p-k_0wnL"
      },
      "execution_count": null,
      "outputs": []
    },
    {
      "cell_type": "code",
      "source": [
        "#compute average clustering coefficient for secondlargestcommunity\n",
        "print(nx.average_clustering(subgrsecondlarge))"
      ],
      "metadata": {
        "id": "w8daguXoUPxH"
      },
      "execution_count": null,
      "outputs": []
    },
    {
      "cell_type": "code",
      "source": [
        "#compute clustering coefficient for secondlargestcommunity\n",
        "\n",
        "clustercoefsecondlarge=nx.clustering(subgrsecondlarge)\n",
        "print(clustercoefsecondlarge)"
      ],
      "metadata": {
        "id": "YLr4z2pH07e1"
      },
      "execution_count": null,
      "outputs": []
    },
    {
      "cell_type": "code",
      "source": [
        "#compute density for secondlargestcommunity\n",
        "\n",
        "densitysecondlarge=nx.density(subgrsecondlarge)\n",
        "print(densitysecondlarge)"
      ],
      "metadata": {
        "id": "t0mQuIAi1PwL"
      },
      "execution_count": null,
      "outputs": []
    },
    {
      "cell_type": "code",
      "source": [
        "#compute diameter for secondlargestcommunity\n",
        "\n",
        "diametersecondlarge=nx.diameter(subgrsecondlarge)\n",
        "print(diametersecondlarge)"
      ],
      "metadata": {
        "id": "yd8tenuS1kTV"
      },
      "execution_count": null,
      "outputs": []
    },
    {
      "cell_type": "code",
      "source": [
        "#compute average path length for secondlargestcommunity\n",
        "\n",
        "avgplengthsecondlarge=nx.average_shortest_path_length(subgrsecondlarge)\n",
        "print(avgplengthsecondlarge)"
      ],
      "metadata": {
        "id": "zZ4e64ky12Ku"
      },
      "execution_count": null,
      "outputs": []
    },
    {
      "cell_type": "markdown",
      "source": [
        "##### Third Largest Community"
      ],
      "metadata": {
        "id": "8YYBTDbUA8WU"
      }
    },
    {
      "cell_type": "code",
      "source": [
        "#find which nodes belong to each party in thirdlargestcommunity\n",
        "party3=[]\n",
        "for k in thirdlargestpartition:\n",
        "  if k in nattributes.keys():\n",
        "    party3.append(nattributes[k]['party'])"
      ],
      "metadata": {
        "id": "QSh7rrcoByEC"
      },
      "execution_count": null,
      "outputs": []
    },
    {
      "cell_type": "code",
      "source": [
        "#count the nodes in each party in thirdlargestcommunity\n",
        "countthird=pd.value_counts(np.array(party3))\n",
        "print(countthird)"
      ],
      "metadata": {
        "id": "anhhTiEXFolf"
      },
      "execution_count": null,
      "outputs": []
    },
    {
      "cell_type": "code",
      "source": [
        "#Count percentage of partys in thirdlargestcommunity\n",
        "\n",
        "for i in countthird:\n",
        "  print((i/len(thirdlargestpartition))*100,'%')"
      ],
      "metadata": {
        "id": "W0hjwP5YLeef"
      },
      "execution_count": null,
      "outputs": []
    },
    {
      "cell_type": "code",
      "source": [
        "#create subgraph of thirdlargestcommunity\n",
        "subgrthirdlarge = G.subgraph(thirdlargestpartition)"
      ],
      "metadata": {
        "id": "BQSaR9UpAnKq"
      },
      "execution_count": null,
      "outputs": []
    },
    {
      "cell_type": "code",
      "source": [
        "#compute average clustering coefficient for thirdlargestcommunity\n",
        "print(nx.average_clustering(subgrthirdlarge))"
      ],
      "metadata": {
        "id": "21AgycYzUV3G"
      },
      "execution_count": null,
      "outputs": []
    },
    {
      "cell_type": "code",
      "source": [
        "#compute clustering coefficient for thirdlargestcommunity\n",
        "clcoef3=nx.clustering(G, nodes=thirdlargestpartition, weight='weights')\n",
        "print(clcoef3)"
      ],
      "metadata": {
        "id": "9x0jMchAnHcB"
      },
      "execution_count": null,
      "outputs": []
    },
    {
      "cell_type": "code",
      "source": [
        "#compute clustering coefficient for thirdlargestcommunity\n",
        "\n",
        "clustercoefthirdlarge=nx.clustering(subgrthirdlarge)\n",
        "print(clustercoefthirdlarge)"
      ],
      "metadata": {
        "id": "eKxt_blV3ceS"
      },
      "execution_count": null,
      "outputs": []
    },
    {
      "cell_type": "code",
      "source": [
        "#compute density for thirdlargestcommunity\n",
        "\n",
        "densitythirdlarge=nx.density(subgrthirdlarge)\n",
        "print(densitythirdlarge)"
      ],
      "metadata": {
        "id": "GS7_W8-D3lqa"
      },
      "execution_count": null,
      "outputs": []
    },
    {
      "cell_type": "code",
      "source": [
        "#compute diameter for thirdlargestcommunity\n",
        "\n",
        "diameterthirdlarge=nx.diameter(subgrthirdlarge)\n",
        "print(diameterthirdlarge)"
      ],
      "metadata": {
        "id": "489ouB_H4UFY"
      },
      "execution_count": null,
      "outputs": []
    },
    {
      "cell_type": "code",
      "source": [
        "#compute average path length for thirdlargestcommunity\n",
        "\n",
        "avgplengththirdlarge=nx.average_shortest_path_length(subgrthirdlarge)\n",
        "print(avgplengththirdlarge)"
      ],
      "metadata": {
        "id": "XGNI-iXL4dkj"
      },
      "execution_count": null,
      "outputs": []
    },
    {
      "cell_type": "markdown",
      "metadata": {
        "id": "5SWNkjoGjli0"
      },
      "source": [
        "### 2.2 Label Propagation"
      ]
    },
    {
      "cell_type": "markdown",
      "source": [
        "#### Code - Modularity"
      ],
      "metadata": {
        "id": "B3AKjLVe9Kih"
      }
    },
    {
      "cell_type": "code",
      "execution_count": null,
      "metadata": {
        "id": "skArLTLJMXsB"
      },
      "outputs": [],
      "source": [
        "import networkx.algorithms.community as nx_comm"
      ]
    },
    {
      "cell_type": "code",
      "execution_count": null,
      "metadata": {
        "id": "uEun_kDVZrmW"
      },
      "outputs": [],
      "source": [
        "comm_lp = nx_comm.label_propagation_communities(G)"
      ]
    },
    {
      "cell_type": "code",
      "execution_count": null,
      "metadata": {
        "id": "aWPSBJzfkEGa"
      },
      "outputs": [],
      "source": [
        "nx_comm.modularity(G, comm_lp)"
      ]
    },
    {
      "cell_type": "code",
      "execution_count": null,
      "metadata": {
        "id": "44zQpC-ycsjl"
      },
      "outputs": [],
      "source": [
        "s = pd.Series(comm_lp)\n",
        "comm_df = pd.DataFrame(columns = ['Id', 'community'])\n",
        "\n",
        "for i in range(0, len(comm_lp)):\n",
        "  temp_df = pd.DataFrame()\n",
        "  temp_df['Id'] = np.array(list(s[i]))\n",
        "  temp_df['community']= i\n",
        "  comm_df = pd.concat([comm_df, temp_df])\n",
        "\n",
        "comm_df['modularity'] = nx_comm.modularity(G, comm_lp)\n",
        "comm_df.to_csv(r'communities_lp.csv', index = False, header=True)"
      ]
    },
    {
      "cell_type": "markdown",
      "metadata": {
        "id": "kkulniTkSWvl"
      },
      "source": [
        "### 2.3 Balanced Link Density-based Label Propagation (BLDLP)"
      ]
    },
    {
      "cell_type": "markdown",
      "source": [
        "#### Code"
      ],
      "metadata": {
        "id": "b22vmHNw9RZ7"
      }
    },
    {
      "cell_type": "code",
      "execution_count": null,
      "metadata": {
        "id": "j1zerAlYSwFp"
      },
      "outputs": [],
      "source": [
        "# calculate weights\n",
        "alpha = 15\n",
        "\n",
        "weights_dict = dict()\n",
        "\n",
        "for one_G_edge in G.edges:\n",
        "  v = one_G_edge[0]\n",
        "  u = one_G_edge[1]\n",
        "\n",
        "  #get neighborhood of v\n",
        "  neighborhood_v = list(G.neighbors(v))\n",
        "    \n",
        "  #find edges of neighborhood\n",
        "  edges_neigh_v = list()\n",
        "  for one_neighbor in neighborhood_v:\n",
        "    edges_neigh_v.extend(list(G.edges(one_neighbor)))\n",
        "\n",
        "  edges_v_u = list()\n",
        "  for one_edge in edges_neigh_v:\n",
        "    if u in one_edge:\n",
        "      continue;\n",
        "    else: \n",
        "      edges_v_u.append(tuple(one_edge))\n",
        "\n",
        "  #calculate weight of edge\n",
        "  strenght_u_v = len(set(edges_v_u)) + 1\n",
        "  weight_u_v = math.floor(alpha/strenght_u_v)\n",
        "  weights_dict[one_G_edge]= weight_u_v"
      ]
    },
    {
      "cell_type": "code",
      "execution_count": null,
      "metadata": {
        "id": "C2B94QdEgLt5"
      },
      "outputs": [],
      "source": [
        "nx.set_edge_attributes(G, weights_dict, \"weights\")"
      ]
    },
    {
      "cell_type": "code",
      "execution_count": null,
      "metadata": {
        "id": "GpRFFF01bXGP"
      },
      "outputs": [],
      "source": [
        "# code retrieved from https://networkx.org/documentation/networkx-2.0/_modules/networkx/algorithms/community/asyn_lpa.html\n",
        "# with fixed bug in return and added max iterations \n",
        "\n",
        "from collections import Counter\n",
        "import random\n",
        "\n",
        "from networkx.utils import groups\n",
        "\n",
        "def asyn_lpa_communities(G, max_iter, weight=None):\n",
        "\n",
        "    labels = {n: i for i, n in enumerate(G)}\n",
        "    cont = True\n",
        "\n",
        "    for i in range(0, max_iter):\n",
        "        cont = False\n",
        "        nodes = list(G)\n",
        "        random.shuffle(nodes)\n",
        "        # Calculate the label for each node\n",
        "        for node in nodes:\n",
        "            if len(G[node]) < 1:\n",
        "                continue\n",
        "\n",
        "            # Get label frequencies. Depending on the order they are processed\n",
        "            # in some nodes with be in t and others in t-1, making the\n",
        "            # algorithm asynchronous.\n",
        "            label_freq = Counter()\n",
        "            for v in G[node]:\n",
        "                label_freq.update({labels[v]: 1})\n",
        "\n",
        "            # Choose the label with the highest frecuency. \n",
        "            max_freq = max(label_freq.values())\n",
        "            best_labels = [label for label, freq in label_freq.items()\n",
        "                           if freq == max_freq]\n",
        "\n",
        "            # if there is a tie, use edge weights\n",
        "            if (len(best_labels)>1):\n",
        "              label_freq = Counter()\n",
        "              for v in G[node]:\n",
        "                  label_freq.update({labels[v]: G.edges[v, node][weight]\n",
        "                                      if weight else 1})\n",
        "              # Choose the label with the highest frecuency, based on weights\n",
        "              max_freq = max(label_freq.values())\n",
        "              best_labels = [label for label, freq in label_freq.items()\n",
        "                            if freq == max_freq]\n",
        "\n",
        "            # if still a tie, choose randomly\n",
        "            new_label = random.choice(best_labels)\n",
        "            labels[node] = new_label\n",
        "\n",
        "            cont = cont or len(best_labels) > 1\n",
        "\n",
        "        # Break if all nodes have a label that is better than other\n",
        "        # neighbour labels (only one label has max_freq for each node).\n",
        "        if not cont: break\n",
        "\n",
        "    return groups(labels).values()"
      ]
    },
    {
      "cell_type": "markdown",
      "source": [
        "#### Modularity"
      ],
      "metadata": {
        "id": "9TNL9nta9VbG"
      }
    },
    {
      "cell_type": "code",
      "execution_count": null,
      "metadata": {
        "id": "BKmm_Cn_ZtkZ"
      },
      "outputs": [],
      "source": [
        "#Modularity of BLDLP\n",
        "comm_weightslp = asyn_lpa_communities(G, 10000, weight=\"weights\")\n",
        "\n",
        "nx_comm.modularity(G, comm_weightslp)"
      ]
    },
    {
      "cell_type": "code",
      "execution_count": null,
      "metadata": {
        "id": "49CYRVxRTfv0"
      },
      "outputs": [],
      "source": [
        "s = pd.Series(comm_weightslp)\n",
        "comm_df = pd.DataFrame(columns = ['Id', 'community'])\n",
        "\n",
        "for i in range(0, len(comm_weightslp)):\n",
        "  temp_df = pd.DataFrame()\n",
        "  temp_df['Id'] = np.array(list(s[i]))\n",
        "  temp_df['community']= i\n",
        "  comm_df = pd.concat([comm_df, temp_df])\n",
        "\n",
        "comm_df['modularity'] = nx_comm.modularity(G, comm_weightslp)\n",
        "comm_df.to_csv(r'communities_bldlp_15.csv', index = False, header=True)"
      ]
    },
    {
      "cell_type": "markdown",
      "source": [
        "#### Investigation of the Three Largest Communities"
      ],
      "metadata": {
        "id": "azs6MoGvoddk"
      }
    },
    {
      "cell_type": "code",
      "source": [
        "# number of nodes in each community\n",
        "size_comms = comm_df['community'].value_counts()"
      ],
      "metadata": {
        "id": "OX97g6LAodC7"
      },
      "execution_count": null,
      "outputs": []
    },
    {
      "cell_type": "code",
      "source": [
        "#number of communities detected\n",
        "len(size_comms)"
      ],
      "metadata": {
        "id": "bd6Bud4dow7h"
      },
      "execution_count": null,
      "outputs": []
    },
    {
      "cell_type": "markdown",
      "source": [
        "##### First Largest Community"
      ],
      "metadata": {
        "id": "t98261phpM7D"
      }
    },
    {
      "cell_type": "code",
      "source": [
        "comm_nodes = np.array(list(list(comm_weightslp)[size_comms.index[0]])).astype(int).tolist()\n",
        "\n",
        "\n",
        "Gcomm1= G.subgraph(comm_nodes)\n",
        "\n",
        "print(\"First community \\n\" + str(size_comms[size_comms.index[0]]))\n",
        "\n",
        "print(\"Percentages \\n\")\n",
        "comm1_df = gephi_df.loc[gephi_df['Id'].isin(list(Gcomm1.nodes))]\n",
        "print(comm1_df['party'].value_counts(normalize=True) * 100)\n",
        "print(\"\\n\")\n",
        "print(\"Community Density: \" + str(nx.density(Gcomm1)) +\"\\n\")\n",
        "print(\"Clustering coefficient: \" + str(nx.average_clustering(Gcomm1))+\"\\n\")"
      ],
      "metadata": {
        "id": "mKE1DRiko547"
      },
      "execution_count": null,
      "outputs": []
    },
    {
      "cell_type": "code",
      "source": [
        "print(\"Diameter: \" + str(nx.diameter(Gcomm1))+\"\\n\")"
      ],
      "metadata": {
        "id": "nAHKFB6YvGNC"
      },
      "execution_count": null,
      "outputs": []
    },
    {
      "cell_type": "code",
      "source": [
        "print(\"Average shortest path length: \" + str(nx.average_shortest_path_length(Gcomm1))+\"\\n\")"
      ],
      "metadata": {
        "id": "8fJYLrI2pqKK"
      },
      "execution_count": null,
      "outputs": []
    },
    {
      "cell_type": "markdown",
      "source": [
        "##### Second Largest Community"
      ],
      "metadata": {
        "id": "4-oOJaUPo2F5"
      }
    },
    {
      "cell_type": "code",
      "source": [
        "comm_nodes = np.array(list(list(comm_weightslp)[size_comms.index[1]])).astype(int).tolist()\n",
        "\n",
        "\n",
        "Gcomm1= G.subgraph(comm_nodes)\n",
        "\n",
        "print(\"First community \\n\" + str(size_comms[size_comms.index[1]]))\n",
        "\n",
        "print(\"Percentages \\n\")\n",
        "comm1_df = gephi_df.loc[gephi_df['Id'].isin(list(Gcomm1.nodes))]\n",
        "print(comm1_df['party'].value_counts(normalize=True) * 100)\n",
        "print(\"\\n\")\n",
        "print(\"Community Density: \" + str(nx.density(Gcomm1)) +\"\\n\")\n",
        "print(\"Clustering coefficient: \" + str(nx.average_clustering(Gcomm1))+\"\\n\")"
      ],
      "metadata": {
        "id": "ku7BSSo7pvsP"
      },
      "execution_count": null,
      "outputs": []
    },
    {
      "cell_type": "code",
      "source": [
        "print(\"Diameter: \" + str(nx.diameter(Gcomm1))+\"\\n\")"
      ],
      "metadata": {
        "id": "dz2nFFzPpmjC"
      },
      "execution_count": null,
      "outputs": []
    },
    {
      "cell_type": "code",
      "source": [
        "print(\"Average shortest path length: \" + str(nx.average_shortest_path_length(Gcomm1))+\"\\n\")"
      ],
      "metadata": {
        "id": "gaaUIUVXpsjR"
      },
      "execution_count": null,
      "outputs": []
    },
    {
      "cell_type": "markdown",
      "source": [
        "##### Third Largest Community"
      ],
      "metadata": {
        "id": "8resDYjYpQOW"
      }
    },
    {
      "cell_type": "code",
      "source": [
        "comm_nodes = np.array(list(list(comm_weightslp)[size_comms.index[2]])).astype(int).tolist()\n",
        "\n",
        "\n",
        "Gcomm1= G.subgraph(comm_nodes)\n",
        "\n",
        "print(\"First community \\n\" + str(size_comms[size_comms.index[2]]))\n",
        "\n",
        "print(\"Percentages \\n\")\n",
        "comm1_df = gephi_df.loc[gephi_df['Id'].isin(list(Gcomm1.nodes))]\n",
        "print(comm1_df['party'].value_counts(normalize=True) * 100)\n",
        "print(\"\\n\")\n",
        "print(\"Community Density: \" + str(nx.density(Gcomm1)) +\"\\n\")\n",
        "print(\"Clustering coefficient: \" + str(nx.average_clustering(Gcomm1))+\"\\n\")"
      ],
      "metadata": {
        "id": "OiGjshqQpypO"
      },
      "execution_count": null,
      "outputs": []
    },
    {
      "cell_type": "code",
      "source": [
        "print(\"Diameter: \" + str(nx.diameter(Gcomm1))+\"\\n\")"
      ],
      "metadata": {
        "id": "_VsbeSSBpnW3"
      },
      "execution_count": null,
      "outputs": []
    },
    {
      "cell_type": "code",
      "source": [
        "print(\"Average shortest path length: \" + str(nx.average_shortest_path_length(Gcomm1))+\"\\n\")"
      ],
      "metadata": {
        "id": "ZPbQKXWrpt0E"
      },
      "execution_count": null,
      "outputs": []
    },
    {
      "cell_type": "markdown",
      "metadata": {
        "id": "UDGm8rMuf-7s"
      },
      "source": [
        "### 2.4 Fast Greedy"
      ]
    },
    {
      "cell_type": "markdown",
      "metadata": {
        "id": "Y-QqFGmYgeoE"
      },
      "source": [
        "#### Code"
      ]
    },
    {
      "cell_type": "code",
      "execution_count": null,
      "metadata": {
        "id": "CDyVNHpkzHlY"
      },
      "outputs": [],
      "source": [
        "#implementing Fast Greedy algorithm\n",
        "fast_greedy_com = nx.algorithms.community.greedy_modularity_communities(G,  weight=None)\n",
        "commun = sorted(fast_greedy_com, reverse=True)\n",
        "com_list = [set(x) for x in commun]\n",
        "print('number of communities',len(com_list))\n",
        "for i in range(len(com_list)):\n",
        "    print('nodes in community',i,':',len(com_list[i]))"
      ]
    },
    {
      "cell_type": "markdown",
      "metadata": {
        "id": "0MsWDDboghmU"
      },
      "source": [
        "#### Modularity"
      ]
    },
    {
      "cell_type": "code",
      "execution_count": null,
      "metadata": {
        "id": "eYLuGu9C4kM5"
      },
      "outputs": [],
      "source": [
        "modular = nx.algorithms.community.modularity(G,com_list)\n",
        "print(\"Modularity of Partition based on Fast Greedy algorithm\",modular)"
      ]
    },
    {
      "cell_type": "code",
      "execution_count": null,
      "metadata": {
        "id": "NFA5SzLL7Hwi"
      },
      "outputs": [],
      "source": [
        "#create a dictionary [node_id:community_label]\n",
        "partition = dict()\n",
        "for i in range(len(com_list)):\n",
        "  for node in com_list[i]:\n",
        "    partition[node] = i\n",
        "\n",
        "partition_df = pd.DataFrame(partition.items(), columns=['Id', 'Label'])\n",
        "partition_df.to_csv (r'fastgreedypartition.csv', index = False, header=True)"
      ]
    },
    {
      "cell_type": "markdown",
      "metadata": {
        "id": "jFaCCrgj5Wte"
      },
      "source": [
        "### 2.6 Deep Nonlinear Reconstruction"
      ]
    },
    {
      "cell_type": "markdown",
      "metadata": {
        "id": "i84eSmESg8P0"
      },
      "source": [
        "#### Code - Modularity - Investigation of the Three Largest Communities\n"
      ]
    },
    {
      "cell_type": "code",
      "execution_count": null,
      "metadata": {
        "id": "61fepqep6R3B"
      },
      "outputs": [],
      "source": [
        "from google.colab import files\n",
        "uploaded = files.upload()\n"
      ]
    },
    {
      "cell_type": "code",
      "execution_count": null,
      "metadata": {
        "id": "o0-ajWzd51Kc"
      },
      "outputs": [],
      "source": [
        "#Implementing Autoencoder-based model\n",
        "from keras import backend as K\n",
        "\n",
        "from keras.models import Model, Sequential\n",
        "from keras.layers import Input, Dense\n",
        "from keras.callbacks import EarlyStopping, ModelCheckpoint\n",
        "from keras import optimizers\n",
        "from tensorflow.keras.models import load_model\n",
        "from keras.regularizers import l2\n",
        "import h5py\n",
        "\n",
        "def train_ffae(mod_arr):\n",
        "    '''trains a feedforward autoencoder'''\n",
        "\n",
        "    #X_train, X_train_noise, X_val, X_val_noise = get_data_ff(folders)\n",
        "    n_inputs = mod_arr.shape[1]\n",
        "    # encoder \n",
        "    inp = Input(shape=(n_inputs,))    \n",
        "    enc = Dense(512, activation='tanh')(inp)\n",
        "    bottleneck = Dense(256, activation='tanh')(enc)\n",
        "    #decoder\n",
        "    dec = Dense(512, activation='tanh')(bottleneck)\n",
        "    # output layers\n",
        "    output = Dense(n_inputs)(dec)\n",
        "    #autoencoder model\n",
        "    model = Model(inputs=inp, outputs=output)\n",
        "    encoder = Model(inputs=inp, outputs=bottleneck)\n",
        "    adam = tf.keras.optimizers.Adam(lr=0.01)\n",
        "    encoder.compile(loss='mean_squared_error' , optimizer = adam)\n",
        "    sgd = tf.keras.optimizers.SGD(lr=0.01)  \n",
        "    model.compile(loss='mean_squared_error' , optimizer = adam)\n",
        "    print(model.summary())\n",
        "       \n",
        "    filepath = 'autoenc.h5'\n",
        "     \n",
        "    checkpoint = ModelCheckpoint(filepath, monitor='loss', verbose=2, \n",
        "                                 save_best_only=True)    \n",
        "    early_stopping_monitor = EarlyStopping(patience=40, monitor='loss')    \n",
        "    \n",
        "    model.fit(mod_arr,mod_arr,batch_size=64,epochs=30000,shuffle=True,\n",
        "        verbose=2,callbacks=[early_stopping_monitor,checkpoint])\n",
        "   \n",
        "    encoder.save('encoder.h5')    \n",
        "    \n",
        "\n",
        "def run_kmeans(g, H1, nodes, clusters):\n",
        "    #kmeans for a range of number of clusters\n",
        "\n",
        "    modular,all_labels, all_partitions, sil = [], [], [], []\n",
        "    for i in range(2,clusters):\n",
        "        clust = i\n",
        "\n",
        "        kmeans = KMeans(n_clusters=clust)\n",
        "        kmeans = kmeans.fit(H1)\n",
        "        labels = kmeans.labels_\n",
        "        labels = np.array(labels)\n",
        "        all_labels.append(labels)\n",
        "        sil.append(metrics.silhouette_score(H1, labels))    \n",
        "        node_per_comm = Counter(labels)\n",
        "\n",
        "        partition=[]\n",
        "        for clust_id in range(clust): \n",
        "            nodes_per_com = nodes[np.where(labels==clust_id)]\n",
        "            nodes_per_com = set(nodes_per_com)\n",
        "            partition.append(nodes_per_com)\n",
        "        all_partitions.append(partition)\n",
        "        \n",
        "        import networkx.algorithms.community as nx_comm\n",
        "        modular.append(nx_comm.modularity(g,partition))\n",
        "    modular=np.array(modular)\n",
        "\n",
        "\n",
        "    #get max modularity & number of clusters for that\n",
        "    best_mod_id = np.where(modular==max_mod)[0][0]\n",
        "    best_clust = best_mod_id+2\n",
        "    best_part = all_partitions[best_mod_id]\n",
        "    print('max modularity:', max_mod,'for', best_clust, 'clusters')\n",
        "\n",
        "    #get the partition that gives best modularity\n",
        "    best_labels = all_labels[best_mod_id]\n",
        "    partition_dict = dict()\n",
        "    for i in range(len(nodes)):\n",
        "        partition_dict[nodes[i]] =  best_labels[i]\n",
        "    partition_df = pd.DataFrame(partition_dict.items(), columns=['Id', 'Label'])\n",
        "    partition_df.to_csv (r'DNRpartition.csv', index = False, header=True)\n",
        "    return best_labels, best_clust, best_part\n",
        "\n",
        "\n",
        "def party_analysis(attrib, partition,i):\n",
        "    #get the nodes & corresponding labels for which we have information\n",
        "\n",
        "    party, final_nodes = [], []\n",
        "    for n in partition:\n",
        "        if n in attrib.keys():\n",
        "            final_nodes.append(n)\n",
        "            party.append(attrib[n]['party'])\n",
        "  \n",
        "    party = np.array(party) \n",
        "    print('number of annotated nodes in community', i, 'is', len(final_nodes)) \n",
        "    node_per_comm = Counter(party)\n",
        "    print('party distribution for ', i, ' community',node_per_comm)\n",
        "\n",
        "\n",
        "def commun_alalysis(G, partition, attrib):\n",
        "    '''conduct analysis on community level'''\n",
        "\n",
        "    commun_list = []\n",
        "    i = 0\n",
        "    for c in partition:\n",
        "        commun_list.append(list(c))\n",
        "        print('number of nodes in community:', i, 'is', len(c))\n",
        "        i += 1\n",
        "\n",
        "    commun_list.sort(key=len, reverse=True)\n",
        "    for i in range(3):\n",
        "        party_analysis(attrib, commun_list[i],i)\n",
        "        comm_subgr = G.subgraph(commun_list[i])\n",
        "        print('density of community:', i ,'is ', nx.density(comm_subgr))\n",
        "        print('average clustering coefficient of community:', i ,'is ',nx.average_clustering(comm_subgr))\n",
        "        if nx.is_connected(comm_subgr):\n",
        "            print('diameter of community:', i ,'is ',nx.diameter(comm_subgr))\n",
        "            print('avg shortest path length:', i ,'is ',nx.average_shortest_path_length(comm_subgr))\n",
        "        else:\n",
        "            print('community:', i ,'is not connected')\n",
        "            print('number of isolated nodes in community', i, 'is:', len(list(nx.isolates(comm_subgr))))\n",
        "\n",
        "B = nx.modularity_matrix(G)\n",
        "B = np.array(B)\n",
        "train_ffae(B)\n",
        "encoder = load_model('encoder.h5')\n",
        "H1 = encoder.predict(B)\n",
        "best_labels, best_clust, best_partition = run_kmeans(G, H1, nodes, clusters=50)\n",
        "print('number of detected communities:', len(best_partition))\n",
        "commun_alalysis(G, best_partition, nattributes)       \n",
        "\n",
        "\n"
      ]
    }
  ],
  "metadata": {
    "colab": {
      "provenance": [],
      "include_colab_link": true
    },
    "kernelspec": {
      "display_name": "Python 3",
      "name": "python3"
    },
    "language_info": {
      "name": "python"
    }
  },
  "nbformat": 4,
  "nbformat_minor": 0
}